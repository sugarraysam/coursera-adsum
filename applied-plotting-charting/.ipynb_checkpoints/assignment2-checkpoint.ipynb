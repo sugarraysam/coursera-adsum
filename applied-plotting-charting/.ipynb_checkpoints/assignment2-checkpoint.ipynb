{
 "cells": [
  {
   "cell_type": "markdown",
   "metadata": {},
   "source": [
    "# Assignment 2\n",
    "\n",
    "Before working on this assignment please read these instructions fully. In the submission area, you will notice that you can click the link to **Preview the Grading** for each step of the assignment. This is the criteria that will be used for peer grading. Please familiarize yourself with the criteria before beginning the assignment.\n",
    "\n",
    "An NOAA dataset has been stored in the file `data/C2A2_data/BinnedCsvs_d400/fb441e62df2d58994928907a91895ec62c2c42e6cd075c2700843b89.csv`. This is the dataset to use for this assignment. Note: The data for this assignment comes from a subset of The National Centers for Environmental Information (NCEI) [Daily Global Historical Climatology Network](https://www1.ncdc.noaa.gov/pub/data/ghcn/daily/readme.txt) (GHCN-Daily). The GHCN-Daily is comprised of daily climate records from thousands of land surface stations across the globe.\n",
    "\n",
    "Each row in the assignment datafile corresponds to a single observation.\n",
    "\n",
    "The following variables are provided to you:\n",
    "\n",
    "* **id** : station identification code\n",
    "* **date** : date in YYYY-MM-DD format (e.g. 2012-01-24 = January 24, 2012)\n",
    "* **element** : indicator of element type\n",
    "    * TMAX : Maximum temperature (tenths of degrees C)\n",
    "    * TMIN : Minimum temperature (tenths of degrees C)\n",
    "* **value** : data value for element (tenths of degrees C)\n",
    "\n",
    "For this assignment, you must:\n",
    "\n",
    "1. Read the documentation and familiarize yourself with the dataset, then write some python code which returns a line graph of the record high and record low temperatures by day of the year over the period 2005-2014. The area between the record high and record low temperatures for each day should be shaded.\n",
    "2. Overlay a scatter of the 2015 data for any points (highs and lows) for which the ten year record (2005-2014) record high or record low was broken in 2015.\n",
    "3. Watch out for leap days (i.e. February 29th), it is reasonable to remove these points from the dataset for the purpose of this visualization.\n",
    "4. Make the visual nice! Leverage principles from the first module in this course when developing your solution. Consider issues such as legends, labels, and chart junk.\n",
    "\n",
    "The data you have been given is near **Ann Arbor, Michigan, United States**, and the stations the data comes from are shown on the map below."
   ]
  },
  {
   "cell_type": "markdown",
   "metadata": {},
   "source": [
    "## Load extensions"
   ]
  },
  {
   "cell_type": "code",
   "execution_count": 85,
   "metadata": {},
   "outputs": [
    {
     "name": "stdout",
     "output_type": "stream",
     "text": [
      "The nb_black extension is already loaded. To reload it, use:\n",
      "  %reload_ext nb_black\n"
     ]
    },
    {
     "data": {
      "application/javascript": [
       "\n",
       "            setTimeout(function() {\n",
       "                var nbb_cell_id = 85;\n",
       "                var nbb_unformatted_code = \"%load_ext nb_black\\n%matplotlib notebook\";\n",
       "                var nbb_formatted_code = \"%load_ext nb_black\\n%matplotlib notebook\";\n",
       "                var nbb_cells = Jupyter.notebook.get_cells();\n",
       "                for (var i = 0; i < nbb_cells.length; ++i) {\n",
       "                    if (nbb_cells[i].input_prompt_number == nbb_cell_id) {\n",
       "                        if (nbb_cells[i].get_text() == nbb_unformatted_code) {\n",
       "                             nbb_cells[i].set_text(nbb_formatted_code);\n",
       "                        }\n",
       "                        break;\n",
       "                    }\n",
       "                }\n",
       "            }, 500);\n",
       "            "
      ],
      "text/plain": [
       "<IPython.core.display.Javascript object>"
      ]
     },
     "metadata": {},
     "output_type": "display_data"
    }
   ],
   "source": [
    "%load_ext nb_black\n",
    "%matplotlib notebook"
   ]
  },
  {
   "cell_type": "markdown",
   "metadata": {},
   "source": [
    "## Prepare Data"
   ]
  },
  {
   "cell_type": "code",
   "execution_count": 140,
   "metadata": {},
   "outputs": [
    {
     "data": {
      "text/html": [
       "<div>\n",
       "<table border=\"1\" class=\"dataframe\">\n",
       "  <thead>\n",
       "    <tr style=\"text-align: right;\">\n",
       "      <th></th>\n",
       "      <th>TempMin</th>\n",
       "      <th>TempMax</th>\n",
       "    </tr>\n",
       "    <tr>\n",
       "      <th>Date</th>\n",
       "      <th></th>\n",
       "      <th></th>\n",
       "    </tr>\n",
       "  </thead>\n",
       "  <tbody>\n",
       "    <tr>\n",
       "      <th>2005-01-01</th>\n",
       "      <td>-5.6</td>\n",
       "      <td>15.6</td>\n",
       "    </tr>\n",
       "    <tr>\n",
       "      <th>2005-01-02</th>\n",
       "      <td>-5.6</td>\n",
       "      <td>13.9</td>\n",
       "    </tr>\n",
       "    <tr>\n",
       "      <th>2005-01-03</th>\n",
       "      <td>0.0</td>\n",
       "      <td>13.3</td>\n",
       "    </tr>\n",
       "    <tr>\n",
       "      <th>2005-01-04</th>\n",
       "      <td>-3.9</td>\n",
       "      <td>3.9</td>\n",
       "    </tr>\n",
       "    <tr>\n",
       "      <th>2005-01-05</th>\n",
       "      <td>-9.4</td>\n",
       "      <td>3.3</td>\n",
       "    </tr>\n",
       "  </tbody>\n",
       "</table>\n",
       "</div>"
      ],
      "text/plain": [
       "            TempMin  TempMax\n",
       "Date                        \n",
       "2005-01-01     -5.6     15.6\n",
       "2005-01-02     -5.6     13.9\n",
       "2005-01-03      0.0     13.3\n",
       "2005-01-04     -3.9      3.9\n",
       "2005-01-05     -9.4      3.3"
      ]
     },
     "execution_count": 140,
     "metadata": {},
     "output_type": "execute_result"
    },
    {
     "data": {
      "application/javascript": [
       "\n",
       "            setTimeout(function() {\n",
       "                var nbb_cell_id = 140;\n",
       "                var nbb_unformatted_code = \"import pandas as pd\\nimport numpy as np\\n\\n\\ndef read_csv():\\n    # parse data\\n    #     Date -> np.datetime64\\n    #     Value -> degrees C (np.float64)\\n    df = pd.read_csv(\\n        'data/C2A2_data/BinnedCsvs_d400/fb441e62df2d58994928907a91895ec62c2c42e6cd075c2700843b89.csv',\\n        header=0,\\n        names=['ID', 'Date', 'Element', 'Value'],\\n        parse_dates=['Date'],\\n        converters={'Value': lambda x: np.float64(x) / 10}\\n    )\\n\\n    # 3. Watch out for leap days (February 29)\\n    mask = df['Date'].apply(lambda x: x.month == 2 and x.day == 29)\\n\\n    return df.loc[~mask]\\n\\n\\ndef get_2005_2014_data():\\n    df = read_csv()\\n\\n    # save data for testing\\n    min_2005_02_14 = df[df['Date'] == '2005-02-14']['Value'].min()\\n    max_2007_02_14 = df[df['Date'] == '2007-02-14']['Value'].max()\\n\\n    # filter & sort, 2005 - 2014 data\\n    df = (\\n        df[(df['Date'] >= '2005-01-01') &\\n           (df['Date'] < '2015-01-01')].groupby('Date').agg(\\n               {\\n                   'Value': [np.min, np.max],\\n               }\\n           )\\n    )\\n    df.columns = [\\\"TempMin\\\", \\\"TempMax\\\"]\\n\\n    # validate manipulation\\n    assert min_2005_02_14 == df.loc['2005-02-14', 'TempMin']\\n    assert max_2007_02_14 == df.loc['2007-02-14', 'TempMax']\\n\\n    return df\\n\\n\\ndef get_2015_data():\\n    pass\\n\\n\\nget_2005_2014_data().head()\";\n",
       "                var nbb_formatted_code = \"import pandas as pd\\nimport numpy as np\\n\\n\\ndef read_csv():\\n    # parse data\\n    #     Date -> np.datetime64\\n    #     Value -> degrees C (np.float64)\\n    df = pd.read_csv(\\n        'data/C2A2_data/BinnedCsvs_d400/fb441e62df2d58994928907a91895ec62c2c42e6cd075c2700843b89.csv',\\n        header=0,\\n        names=['ID', 'Date', 'Element', 'Value'],\\n        parse_dates=['Date'],\\n        converters={'Value': lambda x: np.float64(x) / 10}\\n    )\\n\\n    # 3. Watch out for leap days (February 29)\\n    mask = df['Date'].apply(lambda x: x.month == 2 and x.day == 29)\\n\\n    return df.loc[~mask]\\n\\n\\ndef get_2005_2014_data():\\n    df = read_csv()\\n\\n    # save data for testing\\n    min_2005_02_14 = df[df['Date'] == '2005-02-14']['Value'].min()\\n    max_2007_02_14 = df[df['Date'] == '2007-02-14']['Value'].max()\\n\\n    # filter & sort, 2005 - 2014 data\\n    df = (\\n        df[(df['Date'] >= '2005-01-01') &\\n           (df['Date'] < '2015-01-01')].groupby('Date').agg(\\n               {\\n                   'Value': [np.min, np.max],\\n               }\\n           )\\n    )\\n    df.columns = [\\\"TempMin\\\", \\\"TempMax\\\"]\\n\\n    # validate manipulation\\n    assert min_2005_02_14 == df.loc['2005-02-14', 'TempMin']\\n    assert max_2007_02_14 == df.loc['2007-02-14', 'TempMax']\\n\\n    return df\\n\\n\\ndef get_2015_data():\\n    pass\\n\\n\\nget_2005_2014_data().head()\";\n",
       "                var nbb_cells = Jupyter.notebook.get_cells();\n",
       "                for (var i = 0; i < nbb_cells.length; ++i) {\n",
       "                    if (nbb_cells[i].input_prompt_number == nbb_cell_id) {\n",
       "                        if (nbb_cells[i].get_text() == nbb_unformatted_code) {\n",
       "                             nbb_cells[i].set_text(nbb_formatted_code);\n",
       "                        }\n",
       "                        break;\n",
       "                    }\n",
       "                }\n",
       "            }, 500);\n",
       "            "
      ],
      "text/plain": [
       "<IPython.core.display.Javascript object>"
      ]
     },
     "metadata": {},
     "output_type": "display_data"
    }
   ],
   "source": [
    "import pandas as pd\n",
    "import numpy as np\n",
    "\n",
    "\n",
    "def read_csv():\n",
    "    # parse data\n",
    "    #     Date -> np.datetime64\n",
    "    #     Value -> degrees C (np.float64)\n",
    "    df = pd.read_csv(\n",
    "        'data/C2A2_data/BinnedCsvs_d400/fb441e62df2d58994928907a91895ec62c2c42e6cd075c2700843b89.csv',\n",
    "        header=0,\n",
    "        names=['ID', 'Date', 'Element', 'Value'],\n",
    "        parse_dates=['Date'],\n",
    "        converters={'Value': lambda x: np.float64(x) / 10}\n",
    "    )\n",
    "\n",
    "    # 3. Watch out for leap days (February 29)\n",
    "    mask = df['Date'].apply(lambda x: x.month == 2 and x.day == 29)\n",
    "\n",
    "    return df.loc[~mask]\n",
    "\n",
    "\n",
    "def get_2005_2014_data():\n",
    "    df = read_csv()\n",
    "\n",
    "    # save data for testing\n",
    "    min_2005_02_14 = df[df['Date'] == '2005-02-14']['Value'].min()\n",
    "    max_2007_02_14 = df[df['Date'] == '2007-02-14']['Value'].max()\n",
    "\n",
    "    # filter & sort, 2005 - 2014 data\n",
    "    df = (\n",
    "        df[(df['Date'] >= '2005-01-01') &\n",
    "           (df['Date'] < '2015-01-01')].groupby('Date').agg(\n",
    "               {\n",
    "                   'Value': [np.min, np.max],\n",
    "               }\n",
    "           )\n",
    "    )\n",
    "    df.columns = [\"TempMin\", \"TempMax\"]\n",
    "\n",
    "    # validate manipulation\n",
    "    assert min_2005_02_14 == df.loc['2005-02-14', 'TempMin']\n",
    "    assert max_2007_02_14 == df.loc['2007-02-14', 'TempMax']\n",
    "\n",
    "    return df\n",
    "\n",
    "\n",
    "def get_2015_data():\n",
    "    pass\n",
    "\n",
    "\n",
    "get_2005_2014_data().head()"
   ]
  },
  {
   "cell_type": "markdown",
   "metadata": {},
   "source": [
    "## Plot data"
   ]
  },
  {
   "cell_type": "code",
   "execution_count": null,
   "metadata": {},
   "outputs": [],
   "source": [
    "import matplotlib.pyplot as plt"
   ]
  }
 ],
 "metadata": {
  "kernelspec": {
   "display_name": "Python 3",
   "language": "python",
   "name": "python3"
  },
  "language_info": {
   "codemirror_mode": {
    "name": "ipython",
    "version": 3
   },
   "file_extension": ".py",
   "mimetype": "text/x-python",
   "name": "python",
   "nbconvert_exporter": "python",
   "pygments_lexer": "ipython3",
   "version": "3.5.9"
  }
 },
 "nbformat": 4,
 "nbformat_minor": 1
}
